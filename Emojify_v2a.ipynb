{
  "nbformat": 4,
  "nbformat_minor": 0,
  "metadata": {
    "coursera": {
      "course_slug": "nlp-sequence-models",
      "graded_item_id": "RNnEs",
      "launcher_item_id": "acNYU"
    },
    "kernelspec": {
      "display_name": "Python 3",
      "language": "python",
      "name": "python3"
    },
    "language_info": {
      "codemirror_mode": {
        "name": "ipython",
        "version": 3
      },
      "file_extension": ".py",
      "mimetype": "text/x-python",
      "name": "python",
      "nbconvert_exporter": "python",
      "pygments_lexer": "ipython3",
      "version": "3.6.0"
    },
    "colab": {
      "name": "Emojify_v2a.ipynb",
      "provenance": [],
      "toc_visible": true,
      "include_colab_link": true
    }
  },
  "cells": [
    {
      "cell_type": "markdown",
      "metadata": {
        "id": "view-in-github",
        "colab_type": "text"
      },
      "source": [
        "<a href=\"https://colab.research.google.com/github/pratheeshkumar99/-Emojifier/blob/main/Emojify_v2a.ipynb\" target=\"_parent\"><img src=\"https://colab.research.google.com/assets/colab-badge.svg\" alt=\"Open In Colab\"/></a>"
      ]
    },
    {
      "cell_type": "code",
      "metadata": {
        "id": "QK1_fbZdZN2y",
        "outputId": "08426753-0829-4469-96c3-b8a5ac9b6e01",
        "colab": {
          "base_uri": "https://localhost:8080/",
          "height": 195
        }
      },
      "source": [
        "pip install emoji --upgrade"
      ],
      "execution_count": 3,
      "outputs": [
        {
          "output_type": "stream",
          "text": [
            "Collecting emoji\n",
            "\u001b[?25l  Downloading https://files.pythonhosted.org/packages/ff/1c/1f1457fe52d0b30cbeebfd578483cedb3e3619108d2d5a21380dfecf8ffd/emoji-0.6.0.tar.gz (51kB)\n",
            "\r\u001b[K     |██████▍                         | 10kB 15.8MB/s eta 0:00:01\r\u001b[K     |████████████▉                   | 20kB 1.8MB/s eta 0:00:01\r\u001b[K     |███████████████████▎            | 30kB 2.2MB/s eta 0:00:01\r\u001b[K     |█████████████████████████▊      | 40kB 2.6MB/s eta 0:00:01\r\u001b[K     |████████████████████████████████| 51kB 1.6MB/s \n",
            "\u001b[?25hBuilding wheels for collected packages: emoji\n",
            "  Building wheel for emoji (setup.py) ... \u001b[?25l\u001b[?25hdone\n",
            "  Created wheel for emoji: filename=emoji-0.6.0-cp36-none-any.whl size=49716 sha256=ebea3b36be002c3ad2054d7eb1ba7f72937776ab7e0843384eec6c558c61a782\n",
            "  Stored in directory: /root/.cache/pip/wheels/46/2c/8b/9dcf5216ca68e14e0320e283692dce8ae321cdc01e73e17796\n",
            "Successfully built emoji\n",
            "Installing collected packages: emoji\n",
            "Successfully installed emoji-0.6.0\n"
          ],
          "name": "stdout"
        }
      ]
    },
    {
      "cell_type": "code",
      "metadata": {
        "id": "alvRRwHBXF5p",
        "outputId": "1ae9369a-bb11-4329-ab90-696f732e5cca",
        "colab": {
          "base_uri": "https://localhost:8080/",
          "height": 70
        }
      },
      "source": [
        "# np.eye(5)[np.array([2,3,1])]"
      ],
      "execution_count": 22,
      "outputs": [
        {
          "output_type": "execute_result",
          "data": {
            "text/plain": [
              "array([[0., 0., 1., 0., 0.],\n",
              "       [0., 0., 0., 1., 0.],\n",
              "       [0., 1., 0., 0., 0.]])"
            ]
          },
          "metadata": {
            "tags": []
          },
          "execution_count": 22
        }
      ]
    },
    {
      "cell_type": "code",
      "metadata": {
        "id": "VprilwjHdlX2"
      },
      "source": [
        "import emoji"
      ],
      "execution_count": 3,
      "outputs": []
    },
    {
      "cell_type": "code",
      "metadata": {
        "id": "YSUG2DofZLE6"
      },
      "source": [
        "import csv\n",
        "import numpy as np\n",
        "import pandas as pd\n",
        "import matplotlib.pyplot as plt\n",
        "from sklearn.metrics import confusion_matrix\n",
        "\n",
        "def read_glove_vecs(glove_file):\n",
        "    with open(glove_file, 'r') as f:\n",
        "        words = set()\n",
        "        word_to_vec_map = {}\n",
        "        for line in f:\n",
        "            line = line.strip().split()\n",
        "            curr_word = line[0]\n",
        "            words.add(curr_word)\n",
        "            word_to_vec_map[curr_word] = np.array(line[1:], dtype=np.float64)\n",
        "        \n",
        "        i = 1\n",
        "        words_to_index = {}\n",
        "        index_to_words = {}\n",
        "        for w in sorted(words):\n",
        "            words_to_index[w] = i\n",
        "            index_to_words[i] = w\n",
        "            i = i + 1\n",
        "    return words_to_index, index_to_words, word_to_vec_map\n",
        "\n",
        "def softmax(x):\n",
        "    \"\"\"Compute softmax values for each sets of scores in x.\"\"\"\n",
        "    e_x = np.exp(x - np.max(x))\n",
        "    return e_x / e_x.sum()\n",
        "\n",
        "\n",
        "def read_csv(filename = 'data/emojify_data.csv'):\n",
        "    phrase = []\n",
        "    emoji = []\n",
        "\n",
        "    with open (filename) as csvDataFile:\n",
        "        csvReader = csv.reader(csvDataFile)\n",
        "\n",
        "        for row in csvReader:\n",
        "            phrase.append(row[0])\n",
        "            emoji.append(row[1])\n",
        "\n",
        "    X = np.asarray(phrase)\n",
        "    Y = np.asarray(emoji, dtype=int)\n",
        "\n",
        "    return X, Y\n",
        "\n",
        "def convert_to_one_hot(Y, C):\n",
        "    Y = np.eye(C)[Y.reshape(-1)]\n",
        "    return Y\n",
        "\n",
        "\n",
        "emoji_dictionary = {\"0\": \"\\u2764\\uFE0F\",    # :heart: prints a black instead of red heart depending on the font\n",
        "                    \"1\": \":baseball:\",\n",
        "                    \"2\": \":smile:\",\n",
        "                    \"3\": \":disappointed:\",\n",
        "                    \"4\": \":fork_and_knife:\"}\n",
        "\n",
        "def label_to_emoji(label):\n",
        "    \"\"\"\n",
        "    Converts a label (int or string) into the corresponding emoji code (string) ready to be printed\n",
        "    \"\"\"\n",
        "    return emoji.emojize(emoji_dictionary[str(label)], use_aliases=True)\n",
        "              \n",
        "    \n",
        "def print_predictions(X, pred):\n",
        "    print()\n",
        "    for i in range(X.shape[0]):\n",
        "        print(X[i], label_to_emoji(int(pred[i])))\n",
        "        \n",
        "        \n",
        "def plot_confusion_matrix(y_actu, y_pred, title='Confusion matrix', cmap=plt.cm.gray_r):\n",
        "    \n",
        "    df_confusion = pd.crosstab(y_actu, y_pred.reshape(y_pred.shape[0],), rownames=['Actual'], colnames=['Predicted'], margins=True)\n",
        "    \n",
        "    df_conf_norm = df_confusion / df_confusion.sum(axis=1)\n",
        "    \n",
        "    plt.matshow(df_confusion, cmap=cmap) # imshow\n",
        "    #plt.title(title)\n",
        "    plt.colorbar()\n",
        "    tick_marks = np.arange(len(df_confusion.columns))\n",
        "    plt.xticks(tick_marks, df_confusion.columns, rotation=45)\n",
        "    plt.yticks(tick_marks, df_confusion.index)\n",
        "    #plt.tight_layout()\n",
        "    plt.ylabel(df_confusion.index.name)\n",
        "    plt.xlabel(df_confusion.columns.name)\n",
        "    \n",
        "    \n",
        "def predict(X, Y, W, b, word_to_vec_map):\n",
        "    \"\"\"\n",
        "    Given X (sentences) and Y (emoji indices), predict emojis and compute the accuracy of your model over the given set.\n",
        "    \n",
        "    Arguments:\n",
        "    X -- input data containing sentences, numpy array of shape (m, None)\n",
        "    Y -- labels, containing index of the label emoji, numpy array of shape (m, 1)\n",
        "    \n",
        "    Returns:\n",
        "    pred -- numpy array of shape (m, 1) with your predictions\n",
        "    \"\"\"\n",
        "    m = X.shape[0]\n",
        "    pred = np.zeros((m, 1))\n",
        "    \n",
        "    for j in range(m):                       # Loop over training examples\n",
        "        \n",
        "        # Split jth test example (sentence) into list of lower case words\n",
        "        words = X[j].lower().split()\n",
        "        \n",
        "        # Average words' vectors\n",
        "        avg = np.zeros((50,))\n",
        "        for w in words:\n",
        "            avg += word_to_vec_map[w]\n",
        "        avg = avg/len(words)\n",
        "\n",
        "        # Forward propagation\n",
        "        Z = np.dot(W, avg) + b\n",
        "        A = softmax(Z)\n",
        "        pred[j] = np.argmax(A)\n",
        "        \n",
        "    print(\"Accuracy: \"  + str(np.mean((pred[:] == Y.reshape(Y.shape[0],1)[:]))))\n",
        "    \n",
        "    return pred"
      ],
      "execution_count": 4,
      "outputs": []
    },
    {
      "cell_type": "code",
      "metadata": {
        "id": "-A3GEQsOYdd2"
      },
      "source": [
        "import numpy as np\n",
        "import emoji\n",
        "import matplotlib.pyplot as plt\n",
        "\n",
        "%matplotlib inline"
      ],
      "execution_count": 5,
      "outputs": []
    },
    {
      "cell_type": "code",
      "metadata": {
        "id": "WMwTNgcSYdeK"
      },
      "source": [
        "X_train, Y_train = read_csv('./drive/My Drive/train_C/train_emoji.csv')\n",
        "X_test, Y_test = read_csv('./drive/My Drive/train_C/test_emoji.csv')"
      ],
      "execution_count": 6,
      "outputs": []
    },
    {
      "cell_type": "code",
      "metadata": {
        "id": "wBweLd3JYdeT"
      },
      "source": [
        "maxLen = len(max(X_train, key=len).split())"
      ],
      "execution_count": 7,
      "outputs": []
    },
    {
      "cell_type": "code",
      "metadata": {
        "id": "EJ_ZpxPUegMJ",
        "outputId": "99cd8dfe-665a-4088-e33a-417927c0629f",
        "colab": {
          "base_uri": "https://localhost:8080/",
          "height": 35
        }
      },
      "source": [
        "from google.colab import drive\n",
        "drive.mount('/content/drive',force_remount=True)"
      ],
      "execution_count": 8,
      "outputs": [
        {
          "output_type": "stream",
          "text": [
            "Mounted at /content/drive\n"
          ],
          "name": "stdout"
        }
      ]
    },
    {
      "cell_type": "code",
      "metadata": {
        "id": "Va6wJd39Ydef",
        "outputId": "23859e4a-7a64-4700-ec7a-52c8b2fa3bc8",
        "colab": {
          "base_uri": "https://localhost:8080/",
          "height": 195
        }
      },
      "source": [
        "for idx in range(10):\n",
        "    print(X_train[idx], label_to_emoji(Y_train[idx]))"
      ],
      "execution_count": 9,
      "outputs": [
        {
          "output_type": "stream",
          "text": [
            "never talk to me again 😞\n",
            "I am proud of your achievements 😄\n",
            "It is the worst day in my life 😞\n",
            "Miss you so much ❤️\n",
            "food is life 🍴\n",
            "I love you mum ❤️\n",
            "Stop saying bullshit 😞\n",
            "congratulations on your acceptance 😄\n",
            "The assignment is too long  😞\n",
            "I want to go play ⚾\n"
          ],
          "name": "stdout"
        }
      ]
    },
    {
      "cell_type": "code",
      "metadata": {
        "id": "CeANN6pGYdet"
      },
      "source": [
        "Y_oh_train = convert_to_one_hot(Y_train, C = 5)\n",
        "Y_oh_test = convert_to_one_hot(Y_test, C = 5)"
      ],
      "execution_count": 10,
      "outputs": []
    },
    {
      "cell_type": "code",
      "metadata": {
        "id": "tMc1JhbiYde4",
        "outputId": "3f00ba0f-2ef3-409c-f8f0-17588bd066c5",
        "colab": {
          "base_uri": "https://localhost:8080/",
          "height": 53
        }
      },
      "source": [
        "idx = 50\n",
        "print(f\"Sentence '{X_train[50]}' has label index {Y_train[idx]}, which is emoji {label_to_emoji(Y_train[idx])}\", )\n",
        "print(f\"Label index {Y_train[idx]} in one-hot encoding format is {Y_oh_train[idx]}\")"
      ],
      "execution_count": 11,
      "outputs": [
        {
          "output_type": "stream",
          "text": [
            "Sentence 'I missed you' has label index 0, which is emoji ❤️\n",
            "Label index 0 in one-hot encoding format is [1. 0. 0. 0. 0.]\n"
          ],
          "name": "stdout"
        }
      ]
    },
    {
      "cell_type": "code",
      "metadata": {
        "id": "1xIKOdZ-YdfD"
      },
      "source": [
        "word_to_index, index_to_word, word_to_vec_map = read_glove_vecs('/content/drive/My Drive/train_C/glove_word_embedding1.txt')"
      ],
      "execution_count": 12,
      "outputs": []
    },
    {
      "cell_type": "code",
      "metadata": {
        "id": "uamqoxvHYdfb"
      },
      "source": [
        "# #word = \"cucumber\"\n",
        "# #idx = 289846\n",
        "# #print(\"the index of\", word, \"in the vocabulary is\", word_to_index[word])\n",
        "# #print(\"the\", str(idx) + \"th word in the vocabulary is\", index_to_word[idx])\n",
        "\n",
        "# word_to_vec_map['cucumber']"
      ],
      "execution_count": 13,
      "outputs": []
    },
    {
      "cell_type": "code",
      "metadata": {
        "id": "SDg6NMk9Ydgn"
      },
      "source": [
        "import numpy as np\n",
        "np.random.seed(0)\n",
        "from keras.models import Model\n",
        "from keras.layers import Dense, Input, Dropout, LSTM, Activation,GRU\n",
        "from keras.layers.embeddings import Embedding\n",
        "from keras.preprocessing import sequence\n",
        "from keras.initializers import glorot_uniform\n",
        "np.random.seed(1)"
      ],
      "execution_count": 14,
      "outputs": []
    },
    {
      "cell_type": "code",
      "metadata": {
        "id": "SyA_Po1iYdgx",
        "outputId": "06e64bce-8c15-43f9-a7a7-6480105fd609",
        "colab": {
          "base_uri": "https://localhost:8080/",
          "height": 70
        }
      },
      "source": [
        "for idx, val in enumerate([\"I\", \"like\", \"learning\"]):\n",
        "    print(idx,val)"
      ],
      "execution_count": 15,
      "outputs": [
        {
          "output_type": "stream",
          "text": [
            "0 I\n",
            "1 like\n",
            "2 learning\n"
          ],
          "name": "stdout"
        }
      ]
    },
    {
      "cell_type": "code",
      "metadata": {
        "id": "9tGoKeRTYdg0"
      },
      "source": [
        "# GRADED FUNCTION: sentences_to_indices\n",
        "\n",
        "def sentences_to_indices(X, word_to_index, max_len):\n",
        "    \"\"\"\n",
        "    Converts an array of sentences (strings) into an array of indices corresponding to words in the sentences.\n",
        "    The output shape should be such that it can be given to `Embedding()` (described in Figure 4). \n",
        "    \n",
        "    Arguments:\n",
        "    X -- array of sentences (strings), of shape (m, 1)\n",
        "    word_to_index -- a dictionary containing the each word mapped to its index\n",
        "    max_len -- maximum number of words in a sentence. You can assume every sentence in X is no longer than this. \n",
        "    \n",
        "    Returns:\n",
        "    X_indices -- array of indices corresponding to words in the sentences from X, of shape (m, max_len)\n",
        "    \"\"\"\n",
        "    \n",
        "    m = X.shape[0]                                   # number of training examples\n",
        "    \n",
        "    ### START CODE HERE ###\n",
        "    # Initialize X_indices as a numpy matrix of zeros and the correct shape (≈ 1 line)\n",
        "    X_indices = np.zeros(shape=(m,max_len))\n",
        "    \n",
        "    for i in range(m):                               # loop over training examples\n",
        "        \n",
        "        # Convert the ith training sentence in lower case and split is into words. You should get a list of words.\n",
        "        sentence_words =[i.lower() for i in X[i].split()]\n",
        "        \n",
        "        # Initialize j to 0\n",
        "        j = 0\n",
        "        \n",
        "        # Loop over the words of sentence_words\n",
        "        for w in sentence_words:\n",
        "            # Set the (i,j)th entry of X_indices to the index of the correct word.\n",
        "            X_indices[i, j] = word_to_index.get(w)\n",
        "            # Increment j to j + 1\n",
        "            j = j+1\n",
        "            \n",
        "    ### END CODE HERE ###\n",
        "    \n",
        "    return X_indices"
      ],
      "execution_count": 30,
      "outputs": []
    },
    {
      "cell_type": "code",
      "metadata": {
        "id": "uV5suh9TYdg6"
      },
      "source": [
        ""
      ],
      "execution_count": 30,
      "outputs": []
    },
    {
      "cell_type": "markdown",
      "metadata": {
        "id": "3Zw2mAcoYdg-"
      },
      "source": [
        "Run the following cell to check what `sentences_to_indices()` does, and check your results."
      ]
    },
    {
      "cell_type": "code",
      "metadata": {
        "id": "RaEOAy_PYdg-",
        "outputId": "57692bb5-6b74-4190-ee49-eac5c9819dbc",
        "colab": {
          "base_uri": "https://localhost:8080/",
          "height": 106
        }
      },
      "source": [
        "X1 = np.array([\"funny lol\", \"lets play baseball\", \"food is ready for you\"])\n",
        "X1_indices = sentences_to_indices(X1,word_to_index, max_len = 5)\n",
        "print(\"X1 =\", X1)\n",
        "print(\"X1_indices =\\n\", X1_indices)"
      ],
      "execution_count": 31,
      "outputs": [
        {
          "output_type": "stream",
          "text": [
            "X1 = ['funny lol' 'lets play baseball' 'food is ready for you']\n",
            "X1_indices =\n",
            " [[155345. 225122.      0.      0.      0.]\n",
            " [220930. 286375.  69714.      0.      0.]\n",
            " [151204. 192973. 302254. 151349. 394475.]]\n"
          ],
          "name": "stdout"
        }
      ]
    },
    {
      "cell_type": "markdown",
      "metadata": {
        "id": "YYfZbw3EYdhD"
      },
      "source": [
        "**Expected Output**:\n",
        "\n",
        "```Python\n",
        "X1 = ['funny lol' 'lets play baseball' 'food is ready for you']\n",
        "X1_indices =\n",
        " [[ 155345.  225122.       0.       0.       0.]\n",
        " [ 220930.  286375.   69714.       0.       0.]\n",
        " [ 151204.  192973.  302254.  151349.  394475.]]\n",
        "```"
      ]
    },
    {
      "cell_type": "code",
      "metadata": {
        "id": "UbRApmIhYdhF"
      },
      "source": [
        ""
      ],
      "execution_count": 31,
      "outputs": []
    },
    {
      "cell_type": "code",
      "metadata": {
        "id": "uhZIZLWmYdhJ"
      },
      "source": [
        "# GRADED FUNCTION: pretrained_embedding_layer\n",
        "\n",
        "def pretrained_embedding_layer(word_to_vec_map, word_to_index):\n",
        "    \"\"\"\n",
        "    Creates a Keras Embedding() layer and loads in pre-trained GloVe 50-dimensional vectors.\n",
        "    \n",
        "    Arguments:\n",
        "    word_to_vec_map -- dictionary mapping words to their GloVe vector representation.\n",
        "    word_to_index -- dictionary mapping from words to their indices in the vocabulary (400,001 words)\n",
        "\n",
        "    Returns:\n",
        "    embedding_layer -- pretrained layer Keras instance\n",
        "    \"\"\"\n",
        "    \n",
        "    vocab_len = len(word_to_index) + 1                  # adding 1 to fit Keras embedding (requirement)\n",
        "    emb_dim = word_to_vec_map[\"cucumber\"].shape[0]      # define dimensionality of your GloVe word vectors (= 50)\n",
        "    \n",
        "    ### START CODE HERE ###\n",
        "    # Step 1\n",
        "    # Initialize the embedding matrix as a numpy array of zeros.\n",
        "    # See instructions above to choose the correct shape.\n",
        "    emb_matrix = np.zeros(shape=(vocab_len,emb_dim))\n",
        "    \n",
        "    # Step 2\n",
        "    # Set each row \"idx\" of the embedding matrix to be \n",
        "    # the word vector representation of the idx'th word of the vocabulary\n",
        "    for word, idx in word_to_index.items():\n",
        "        emb_matrix[idx, :] = word_to_vec_map[word]\n",
        "\n",
        "    # Step 3\n",
        "    # Define Keras embedding layer with the correct input and output sizes\n",
        "    # Make it non-trainable.\n",
        "    embedding_layer=Embedding(input_dim=vocab_len,output_dim=emb_dim, trainable=False)    ### END CODE HERE ###\n",
        "\n",
        "    # Step 4 (already done for you; please do not modify)\n",
        "    # Build the embedding layer, it is required before setting the weights of the embedding layer. \n",
        "    embedding_layer.build((None,)) # Do not modify the \"None\".  This line of code is complete as-is.\n",
        "    \n",
        "    # Set the weights of the embedding layer to the embedding matrix. Your layer is now pretrained.\n",
        "    embedding_layer.set_weights([emb_matrix])\n",
        "    return embedding_layer"
      ],
      "execution_count": 32,
      "outputs": []
    },
    {
      "cell_type": "code",
      "metadata": {
        "id": "HX8vf6yHYdhR",
        "outputId": "8db8b1f8-9802-4b6b-a8af-3537f5e245bd",
        "colab": {
          "base_uri": "https://localhost:8080/",
          "height": 35
        }
      },
      "source": [
        "embedding_layer = pretrained_embedding_layer(word_to_vec_map, word_to_index)\n",
        "print(\"weights[0][1][3] =\", embedding_layer.get_weights()[0][1][3])"
      ],
      "execution_count": 33,
      "outputs": [
        {
          "output_type": "stream",
          "text": [
            "weights[0][1][3] = -1.5434\n"
          ],
          "name": "stdout"
        }
      ]
    },
    {
      "cell_type": "code",
      "metadata": {
        "id": "5GQhI4tjgxZO"
      },
      "source": [
        "# max(([len(sent.split(' ') )for sent in X_train]))\n"
      ],
      "execution_count": 34,
      "outputs": []
    },
    {
      "cell_type": "code",
      "metadata": {
        "id": "MtxBXAj-Ydhg"
      },
      "source": [
        "# GRADED FUNCTION: Emojify_V2\n",
        "\n",
        "def Emojify_V2(input_shape, word_to_vec_map, word_to_index):\n",
        "    \"\"\"\n",
        "    Function creating the Emojify-v2 model's graph.\n",
        "    \n",
        "    Arguments:\n",
        "    input_shape -- shape of the input, usually (max_len,)\n",
        "    word_to_vec_map -- dictionary mapping every word in a vocabulary into its 50-dimensional vector representation\n",
        "    word_to_index -- dictionary mapping from words to their indices in the vocabulary (400,001 words)\n",
        "\n",
        "    Returns:\n",
        "    model -- a model instance in Keras\n",
        "    \"\"\"\n",
        "    \n",
        "    ### START CODE HERE ###\n",
        "    # Define sentence_indices as the input of the graph.\n",
        "    # It should be of shape input_shape and dtype 'int32' (as it contains indices, which are integers).\n",
        "    sentence_indices = Input(input_shape, dtype='int32')\n",
        "    \n",
        "    # Create the embedding layer pretrained with GloVe Vectors (≈1 line)\n",
        "    embedding_layer = pretrained_embedding_layer(word_to_vec_map, word_to_index)\n",
        "    \n",
        "    \n",
        "    # Propagate sentence_indices through your embedding layer\n",
        "    # (See additional hints in the instructions).\n",
        "    embeddings = embedding_layer(sentence_indices)   \n",
        "    print(embeddings)\n",
        "    # Propagate the embeddings through an LSTM layer with 128-dimensional hidden state\n",
        "    # The returned output should be a batch of sequences.\n",
        "    X = LSTM(128, return_sequences = True)(embeddings)\n",
        "    # Add dropout with a probability of 0.5\n",
        "    X =  Dropout(0.7)(X)\n",
        "    # Propagate X trough another LSTM layer with 128-dimensional hidden state\n",
        "    # The returned output should be a single hidden state, not a batch of sequences.\n",
        "    X = LSTM(128, return_sequences=False)(X)\n",
        "    # Add dropout with a probability of 0.5\n",
        "    X = Dropout(0.5)(X)\n",
        "    # X = LSTM(1024, return_sequences=False,dropout=0.5)(X)\n",
        "    # # # Add dropout with a probability of 0.5\n",
        "    # X = Dropout(0.6)(X)\n",
        "    # Propagate X through a Dense layer with 5 units\n",
        "    X = Dense(5)(X)\n",
        "    # Add a softmax activation\n",
        "    X = Activation('softmax')(X)\n",
        "    \n",
        "    # Create Model instance which converts sentence_indices into X.\n",
        "    model =  Model(inputs=sentence_indices, outputs=X)\n",
        "    \n",
        "    ### END CODE HERE ###\n",
        "    return model"
      ],
      "execution_count": 35,
      "outputs": []
    },
    {
      "cell_type": "code",
      "metadata": {
        "scrolled": false,
        "id": "AyLUytvMYdhk",
        "outputId": "c334b0ff-1cc9-43cb-af9d-075c5545ec7b",
        "colab": {
          "base_uri": "https://localhost:8080/",
          "height": 462
        }
      },
      "source": [
        "model = Emojify_V2((maxLen), word_to_vec_map, word_to_index)\n",
        "model.summary()"
      ],
      "execution_count": 36,
      "outputs": [
        {
          "output_type": "stream",
          "text": [
            "Tensor(\"embedding_3/embedding_lookup/Identity_1:0\", shape=(None, 10, 100), dtype=float32)\n",
            "Model: \"functional_3\"\n",
            "_________________________________________________________________\n",
            "Layer (type)                 Output Shape              Param #   \n",
            "=================================================================\n",
            "input_2 (InputLayer)         [(None, 10)]              0         \n",
            "_________________________________________________________________\n",
            "embedding_3 (Embedding)      (None, 10, 100)           40000100  \n",
            "_________________________________________________________________\n",
            "lstm_2 (LSTM)                (None, 10, 128)           117248    \n",
            "_________________________________________________________________\n",
            "dropout_2 (Dropout)          (None, 10, 128)           0         \n",
            "_________________________________________________________________\n",
            "lstm_3 (LSTM)                (None, 128)               131584    \n",
            "_________________________________________________________________\n",
            "dropout_3 (Dropout)          (None, 128)               0         \n",
            "_________________________________________________________________\n",
            "dense_1 (Dense)              (None, 5)                 645       \n",
            "_________________________________________________________________\n",
            "activation_1 (Activation)    (None, 5)                 0         \n",
            "=================================================================\n",
            "Total params: 40,249,577\n",
            "Trainable params: 249,477\n",
            "Non-trainable params: 40,000,100\n",
            "_________________________________________________________________\n"
          ],
          "name": "stdout"
        }
      ]
    },
    {
      "cell_type": "code",
      "metadata": {
        "id": "-3a9ADf1Ydhq"
      },
      "source": [
        "model.compile(loss='categorical_crossentropy', optimizer='adam', metrics=['accuracy'])"
      ],
      "execution_count": 37,
      "outputs": []
    },
    {
      "cell_type": "code",
      "metadata": {
        "id": "uoMshYqkYdht"
      },
      "source": [
        "X_train_indices = sentences_to_indices(X_train, word_to_index, maxLen)\n",
        "Y_train_oh = convert_to_one_hot(Y_train, C = 5)"
      ],
      "execution_count": 38,
      "outputs": []
    },
    {
      "cell_type": "code",
      "metadata": {
        "id": "8XYcGvhWkqyM"
      },
      "source": [
        "X_val_indices = sentences_to_indices(X_test, word_to_index, maxLen)\n",
        "Y_val_oh = convert_to_one_hot(Y_test, C = 5)"
      ],
      "execution_count": 39,
      "outputs": []
    },
    {
      "cell_type": "code",
      "metadata": {
        "id": "gDxLDhbjk9PS",
        "outputId": "88c660b4-30ec-4974-baa2-222ec2e36069",
        "colab": {
          "base_uri": "https://localhost:8080/",
          "height": 70
        }
      },
      "source": [
        "print(X_test[0],X_val_indices[0],Y_val_oh[0])\n",
        "print(X_val_indices.shape)\n"
      ],
      "execution_count": 40,
      "outputs": [
        {
          "output_type": "stream",
          "text": [
            "I want to eat\t [185457. 383068. 360915. 132701.      0.      0.      0.      0.      0.\n",
            "      0.] [0. 0. 0. 0. 1.]\n",
            "(56, 10)\n"
          ],
          "name": "stdout"
        }
      ]
    },
    {
      "cell_type": "code",
      "metadata": {
        "id": "sSllh5LGYdhx",
        "outputId": "7743fdf6-cf39-4595-bb1b-4ef18a547d63",
        "colab": {
          "base_uri": "https://localhost:8080/",
          "height": 70
        }
      },
      "source": [
        "print(X_train[0],X_train_indices[0],Y_train_oh[0])\n",
        "print(X_train_indices.shape)\n"
      ],
      "execution_count": 41,
      "outputs": [
        {
          "output_type": "stream",
          "text": [
            "never talk to me again [259914. 352214. 360915. 239105.  47887.      0.      0.      0.      0.\n",
            "      0.] [0. 0. 0. 1. 0.]\n",
            "(132, 10)\n"
          ],
          "name": "stdout"
        }
      ]
    },
    {
      "cell_type": "code",
      "metadata": {
        "id": "p-UekPhtYdh_",
        "outputId": "1a212cfb-22a8-40da-b4b0-fd24c95b7f4f",
        "colab": {
          "base_uri": "https://localhost:8080/",
          "height": 1000
        }
      },
      "source": [
        "history = model.fit(X_train_indices, Y_train_oh ,epochs = 70,validation_data = (X_val_indices,Y_val_oh) ,batch_size = 32, shuffle=True)"
      ],
      "execution_count": 42,
      "outputs": [
        {
          "output_type": "stream",
          "text": [
            "Epoch 1/70\n",
            "5/5 [==============================] - 1s 204ms/step - loss: 1.5666 - accuracy: 0.3182 - val_loss: 1.5262 - val_accuracy: 0.4286\n",
            "Epoch 2/70\n",
            "5/5 [==============================] - 0s 23ms/step - loss: 1.5334 - accuracy: 0.2424 - val_loss: 1.4990 - val_accuracy: 0.3571\n",
            "Epoch 3/70\n",
            "5/5 [==============================] - 0s 25ms/step - loss: 1.4794 - accuracy: 0.3788 - val_loss: 1.4635 - val_accuracy: 0.4286\n",
            "Epoch 4/70\n",
            "5/5 [==============================] - 0s 26ms/step - loss: 1.3991 - accuracy: 0.5076 - val_loss: 1.4163 - val_accuracy: 0.4821\n",
            "Epoch 5/70\n",
            "5/5 [==============================] - 0s 25ms/step - loss: 1.2939 - accuracy: 0.5303 - val_loss: 1.3372 - val_accuracy: 0.4286\n",
            "Epoch 6/70\n",
            "5/5 [==============================] - 0s 25ms/step - loss: 1.1754 - accuracy: 0.6515 - val_loss: 1.2521 - val_accuracy: 0.4821\n",
            "Epoch 7/70\n",
            "5/5 [==============================] - 0s 26ms/step - loss: 1.0024 - accuracy: 0.6894 - val_loss: 1.1561 - val_accuracy: 0.5000\n",
            "Epoch 8/70\n",
            "5/5 [==============================] - 0s 25ms/step - loss: 0.9347 - accuracy: 0.6894 - val_loss: 1.1129 - val_accuracy: 0.5179\n",
            "Epoch 9/70\n",
            "5/5 [==============================] - 0s 23ms/step - loss: 0.7751 - accuracy: 0.7500 - val_loss: 1.1623 - val_accuracy: 0.6071\n",
            "Epoch 10/70\n",
            "5/5 [==============================] - 0s 23ms/step - loss: 0.6223 - accuracy: 0.7879 - val_loss: 1.1238 - val_accuracy: 0.6071\n",
            "Epoch 11/70\n",
            "5/5 [==============================] - 0s 26ms/step - loss: 0.5087 - accuracy: 0.8409 - val_loss: 1.0352 - val_accuracy: 0.6250\n",
            "Epoch 12/70\n",
            "5/5 [==============================] - 0s 25ms/step - loss: 0.5448 - accuracy: 0.8182 - val_loss: 1.0789 - val_accuracy: 0.5893\n",
            "Epoch 13/70\n",
            "5/5 [==============================] - 0s 23ms/step - loss: 0.4978 - accuracy: 0.8106 - val_loss: 1.1838 - val_accuracy: 0.5714\n",
            "Epoch 14/70\n",
            "5/5 [==============================] - 0s 28ms/step - loss: 0.5913 - accuracy: 0.7727 - val_loss: 0.8505 - val_accuracy: 0.6964\n",
            "Epoch 15/70\n",
            "5/5 [==============================] - 0s 23ms/step - loss: 0.3446 - accuracy: 0.8864 - val_loss: 0.9876 - val_accuracy: 0.6250\n",
            "Epoch 16/70\n",
            "5/5 [==============================] - 0s 23ms/step - loss: 0.5004 - accuracy: 0.8182 - val_loss: 0.9253 - val_accuracy: 0.6607\n",
            "Epoch 17/70\n",
            "5/5 [==============================] - 0s 23ms/step - loss: 0.3549 - accuracy: 0.8864 - val_loss: 0.9871 - val_accuracy: 0.6429\n",
            "Epoch 18/70\n",
            "5/5 [==============================] - 0s 23ms/step - loss: 0.2645 - accuracy: 0.9318 - val_loss: 0.8893 - val_accuracy: 0.6250\n",
            "Epoch 19/70\n",
            "5/5 [==============================] - 0s 24ms/step - loss: 0.2335 - accuracy: 0.9242 - val_loss: 0.9459 - val_accuracy: 0.6429\n",
            "Epoch 20/70\n",
            "5/5 [==============================] - 0s 23ms/step - loss: 0.2346 - accuracy: 0.9470 - val_loss: 0.9608 - val_accuracy: 0.6607\n",
            "Epoch 21/70\n",
            "5/5 [==============================] - 0s 25ms/step - loss: 0.2146 - accuracy: 0.9394 - val_loss: 0.9958 - val_accuracy: 0.6607\n",
            "Epoch 22/70\n",
            "5/5 [==============================] - 0s 26ms/step - loss: 0.2015 - accuracy: 0.9242 - val_loss: 0.9834 - val_accuracy: 0.6786\n",
            "Epoch 23/70\n",
            "5/5 [==============================] - 0s 23ms/step - loss: 0.1466 - accuracy: 0.9621 - val_loss: 0.9756 - val_accuracy: 0.6964\n",
            "Epoch 24/70\n",
            "5/5 [==============================] - 0s 23ms/step - loss: 0.1051 - accuracy: 0.9697 - val_loss: 1.0248 - val_accuracy: 0.6786\n",
            "Epoch 25/70\n",
            "5/5 [==============================] - 0s 23ms/step - loss: 0.0599 - accuracy: 0.9924 - val_loss: 1.0551 - val_accuracy: 0.7143\n",
            "Epoch 26/70\n",
            "5/5 [==============================] - 0s 24ms/step - loss: 0.1186 - accuracy: 0.9470 - val_loss: 1.0957 - val_accuracy: 0.7143\n",
            "Epoch 27/70\n",
            "5/5 [==============================] - 0s 24ms/step - loss: 0.0654 - accuracy: 0.9773 - val_loss: 1.0616 - val_accuracy: 0.7143\n",
            "Epoch 28/70\n",
            "5/5 [==============================] - 0s 24ms/step - loss: 0.1126 - accuracy: 0.9773 - val_loss: 1.1502 - val_accuracy: 0.6786\n",
            "Epoch 29/70\n",
            "5/5 [==============================] - 0s 26ms/step - loss: 0.0751 - accuracy: 0.9848 - val_loss: 1.1814 - val_accuracy: 0.6607\n",
            "Epoch 30/70\n",
            "5/5 [==============================] - 0s 24ms/step - loss: 0.0851 - accuracy: 0.9697 - val_loss: 1.1159 - val_accuracy: 0.6964\n",
            "Epoch 31/70\n",
            "5/5 [==============================] - 0s 23ms/step - loss: 0.1495 - accuracy: 0.9470 - val_loss: 1.1564 - val_accuracy: 0.6786\n",
            "Epoch 32/70\n",
            "5/5 [==============================] - 0s 23ms/step - loss: 0.0601 - accuracy: 0.9848 - val_loss: 1.1387 - val_accuracy: 0.6429\n",
            "Epoch 33/70\n",
            "5/5 [==============================] - 0s 24ms/step - loss: 0.0607 - accuracy: 0.9848 - val_loss: 1.0764 - val_accuracy: 0.6964\n",
            "Epoch 34/70\n",
            "5/5 [==============================] - 0s 28ms/step - loss: 0.0652 - accuracy: 0.9697 - val_loss: 1.2722 - val_accuracy: 0.6786\n",
            "Epoch 35/70\n",
            "5/5 [==============================] - 0s 24ms/step - loss: 0.3988 - accuracy: 0.8788 - val_loss: 1.3037 - val_accuracy: 0.6786\n",
            "Epoch 36/70\n",
            "5/5 [==============================] - 0s 23ms/step - loss: 0.1851 - accuracy: 0.9545 - val_loss: 1.6066 - val_accuracy: 0.6250\n",
            "Epoch 37/70\n",
            "5/5 [==============================] - 0s 24ms/step - loss: 0.2907 - accuracy: 0.9091 - val_loss: 1.6080 - val_accuracy: 0.5714\n",
            "Epoch 38/70\n",
            "5/5 [==============================] - 0s 24ms/step - loss: 0.3118 - accuracy: 0.8864 - val_loss: 1.1172 - val_accuracy: 0.6964\n",
            "Epoch 39/70\n",
            "5/5 [==============================] - 0s 24ms/step - loss: 0.2004 - accuracy: 0.9394 - val_loss: 0.9764 - val_accuracy: 0.6964\n",
            "Epoch 40/70\n",
            "5/5 [==============================] - 0s 24ms/step - loss: 0.1798 - accuracy: 0.9394 - val_loss: 0.9469 - val_accuracy: 0.6607\n",
            "Epoch 41/70\n",
            "5/5 [==============================] - 0s 24ms/step - loss: 0.1139 - accuracy: 0.9848 - val_loss: 1.0569 - val_accuracy: 0.6786\n",
            "Epoch 42/70\n",
            "5/5 [==============================] - 0s 26ms/step - loss: 0.0868 - accuracy: 0.9924 - val_loss: 1.0718 - val_accuracy: 0.6786\n",
            "Epoch 43/70\n",
            "5/5 [==============================] - 0s 23ms/step - loss: 0.0548 - accuracy: 1.0000 - val_loss: 1.0670 - val_accuracy: 0.6964\n",
            "Epoch 44/70\n",
            "5/5 [==============================] - 0s 24ms/step - loss: 0.0334 - accuracy: 1.0000 - val_loss: 1.1404 - val_accuracy: 0.6786\n",
            "Epoch 45/70\n",
            "5/5 [==============================] - 0s 23ms/step - loss: 0.0284 - accuracy: 1.0000 - val_loss: 1.2135 - val_accuracy: 0.6607\n",
            "Epoch 46/70\n",
            "5/5 [==============================] - 0s 24ms/step - loss: 0.0188 - accuracy: 1.0000 - val_loss: 1.2301 - val_accuracy: 0.6786\n",
            "Epoch 47/70\n",
            "5/5 [==============================] - 0s 23ms/step - loss: 0.0185 - accuracy: 1.0000 - val_loss: 1.3062 - val_accuracy: 0.6607\n",
            "Epoch 48/70\n",
            "5/5 [==============================] - 0s 26ms/step - loss: 0.0085 - accuracy: 1.0000 - val_loss: 1.3663 - val_accuracy: 0.6607\n",
            "Epoch 49/70\n",
            "5/5 [==============================] - 0s 24ms/step - loss: 0.0085 - accuracy: 1.0000 - val_loss: 1.3961 - val_accuracy: 0.6786\n",
            "Epoch 50/70\n",
            "5/5 [==============================] - 0s 24ms/step - loss: 0.0155 - accuracy: 1.0000 - val_loss: 1.4427 - val_accuracy: 0.6786\n",
            "Epoch 51/70\n",
            "5/5 [==============================] - 0s 24ms/step - loss: 0.0081 - accuracy: 1.0000 - val_loss: 1.5149 - val_accuracy: 0.6607\n",
            "Epoch 52/70\n",
            "5/5 [==============================] - 0s 25ms/step - loss: 0.0070 - accuracy: 1.0000 - val_loss: 1.5496 - val_accuracy: 0.6607\n",
            "Epoch 53/70\n",
            "5/5 [==============================] - 0s 23ms/step - loss: 0.0044 - accuracy: 1.0000 - val_loss: 1.5816 - val_accuracy: 0.6786\n",
            "Epoch 54/70\n",
            "5/5 [==============================] - 0s 23ms/step - loss: 0.0031 - accuracy: 1.0000 - val_loss: 1.5847 - val_accuracy: 0.6786\n",
            "Epoch 55/70\n",
            "5/5 [==============================] - 0s 24ms/step - loss: 0.0047 - accuracy: 1.0000 - val_loss: 1.5834 - val_accuracy: 0.6786\n",
            "Epoch 56/70\n",
            "5/5 [==============================] - 0s 24ms/step - loss: 0.0045 - accuracy: 1.0000 - val_loss: 1.5911 - val_accuracy: 0.6786\n",
            "Epoch 57/70\n",
            "5/5 [==============================] - 0s 24ms/step - loss: 0.0042 - accuracy: 1.0000 - val_loss: 1.6026 - val_accuracy: 0.6786\n",
            "Epoch 58/70\n",
            "5/5 [==============================] - 0s 24ms/step - loss: 0.0039 - accuracy: 1.0000 - val_loss: 1.6164 - val_accuracy: 0.6786\n",
            "Epoch 59/70\n",
            "5/5 [==============================] - 0s 24ms/step - loss: 0.0030 - accuracy: 1.0000 - val_loss: 1.6249 - val_accuracy: 0.6786\n",
            "Epoch 60/70\n",
            "5/5 [==============================] - 0s 23ms/step - loss: 0.0033 - accuracy: 1.0000 - val_loss: 1.6014 - val_accuracy: 0.6786\n",
            "Epoch 61/70\n",
            "5/5 [==============================] - 0s 24ms/step - loss: 0.0020 - accuracy: 1.0000 - val_loss: 1.5977 - val_accuracy: 0.6786\n",
            "Epoch 62/70\n",
            "5/5 [==============================] - 0s 25ms/step - loss: 0.0024 - accuracy: 1.0000 - val_loss: 1.6183 - val_accuracy: 0.6607\n",
            "Epoch 63/70\n",
            "5/5 [==============================] - 0s 24ms/step - loss: 0.0024 - accuracy: 1.0000 - val_loss: 1.6526 - val_accuracy: 0.6607\n",
            "Epoch 64/70\n",
            "5/5 [==============================] - 0s 24ms/step - loss: 0.0020 - accuracy: 1.0000 - val_loss: 1.6852 - val_accuracy: 0.6607\n",
            "Epoch 65/70\n",
            "5/5 [==============================] - 0s 23ms/step - loss: 0.0029 - accuracy: 1.0000 - val_loss: 1.7150 - val_accuracy: 0.6607\n",
            "Epoch 66/70\n",
            "5/5 [==============================] - 0s 23ms/step - loss: 0.0025 - accuracy: 1.0000 - val_loss: 1.7462 - val_accuracy: 0.6607\n",
            "Epoch 67/70\n",
            "5/5 [==============================] - 0s 24ms/step - loss: 0.0021 - accuracy: 1.0000 - val_loss: 1.7640 - val_accuracy: 0.6607\n",
            "Epoch 68/70\n",
            "5/5 [==============================] - 0s 26ms/step - loss: 0.0021 - accuracy: 1.0000 - val_loss: 1.7739 - val_accuracy: 0.6607\n",
            "Epoch 69/70\n",
            "5/5 [==============================] - 0s 24ms/step - loss: 0.0033 - accuracy: 1.0000 - val_loss: 1.7671 - val_accuracy: 0.6607\n",
            "Epoch 70/70\n",
            "5/5 [==============================] - 0s 24ms/step - loss: 0.0023 - accuracy: 1.0000 - val_loss: 1.7627 - val_accuracy: 0.6607\n"
          ],
          "name": "stdout"
        }
      ]
    },
    {
      "cell_type": "code",
      "metadata": {
        "id": "0vr2m5ct6dcF",
        "outputId": "cc5c01f4-c60b-4b9f-a680-38bb5891ac16",
        "colab": {
          "base_uri": "https://localhost:8080/",
          "height": 70
        }
      },
      "source": [
        "\n",
        "X_test_indices = sentences_to_indices(X_test, word_to_index, max_len = maxLen)\n",
        "Y_test_oh = convert_to_one_hot(Y_test, C = 5)\n",
        "loss, acc = model.evaluate(X_test_indices, Y_test_oh)\n",
        "print('Test loss=',loss)\n",
        "print(\"Test accuracy = \", acc)"
      ],
      "execution_count": 43,
      "outputs": [
        {
          "output_type": "stream",
          "text": [
            "2/2 [==============================] - 0s 7ms/step - loss: 1.7627 - accuracy: 0.6607\n",
            "Test loss= 1.7627381086349487\n",
            "Test accuracy =  0.6607142686843872\n"
          ],
          "name": "stdout"
        }
      ]
    },
    {
      "cell_type": "code",
      "metadata": {
        "id": "rHvdr_HVYdiD",
        "outputId": "9464cce8-c7d0-4c5a-c1d7-5e833f7082ae",
        "colab": {
          "base_uri": "https://localhost:8080/",
          "height": 355
        }
      },
      "source": [
        "# This code allows you to see the mislabelled examples\n",
        "C = 5\n",
        "y_test_oh = np.eye(C)[Y_test.reshape(-1)]\n",
        "X_test_indices = sentences_to_indices(X_test, word_to_index, maxLen)\n",
        "pred = model.predict(X_test_indices)\n",
        "for i in range(len(X_test)):\n",
        "    x = X_test_indices\n",
        "    num = np.argmax(pred[i])\n",
        "    if(num != Y_test[i]):\n",
        "        print('Expected emoji:'+ label_to_emoji(Y_test[i]) + ' prediction: '+ X_test[i] + label_to_emoji(num).strip())"
      ],
      "execution_count": 44,
      "outputs": [
        {
          "output_type": "stream",
          "text": [
            "Expected emoji:😄 prediction: he got a raise\t😞\n",
            "Expected emoji:❤️ prediction: she got me a present\t😄\n",
            "Expected emoji:❤️ prediction: I am upset\t😞\n",
            "Expected emoji:❤️ prediction: We had such a lovely dinner tonight\t😄\n",
            "Expected emoji:😞 prediction: This girl is messing with me\t❤️\n",
            "Expected emoji:😞 prediction: work is horrible\t😄\n",
            "Expected emoji:😄 prediction: you brighten my day\t😞\n",
            "Expected emoji:😞 prediction: she is a bully\t❤️\n",
            "Expected emoji:😞 prediction: I worked during my birthday\t😄\n",
            "Expected emoji:😄 prediction: enjoy your break\t⚾\n",
            "Expected emoji:❤️ prediction: valentine day is near\t😄\n",
            "Expected emoji:❤️ prediction: will you be my valentine\t😄\n",
            "Expected emoji:🍴 prediction: I am starving\t😞\n",
            "Expected emoji:😄 prediction: I will go dance⚾\n",
            "Expected emoji:😄 prediction: I like your jacket \t❤️\n",
            "Expected emoji:😄 prediction: I want to joke\t😞\n",
            "Expected emoji:😞 prediction: go away\t⚾\n",
            "Expected emoji:❤️ prediction: family is all I have\t😞\n",
            "Expected emoji:😞 prediction: I did not have breakfast 🍴\n"
          ],
          "name": "stdout"
        }
      ]
    },
    {
      "cell_type": "markdown",
      "metadata": {
        "id": "Nh9ueTVlYdiJ"
      },
      "source": [
        "Now you can try it on your own example. Write your own sentence below. "
      ]
    },
    {
      "cell_type": "code",
      "metadata": {
        "id": "Qx52vTMpYdiJ",
        "outputId": "fa16aa59-7ee9-471d-8073-cb9cb9545cce",
        "colab": {
          "base_uri": "https://localhost:8080/",
          "height": 35
        }
      },
      "source": [
        "# Change the sentence below to see your prediction. Make sure all the words are in the Glove embeddings.  \n",
        "x_test = np.array([\"bat\"])\n",
        "X_test_indices = sentences_to_indices(x_test, word_to_index, maxLen)\n",
        "print(x_test[0] +' '+  label_to_emoji(np.argmax(model.predict(X_test_indices))))"
      ],
      "execution_count": 45,
      "outputs": [
        {
          "output_type": "stream",
          "text": [
            "bat ⚾\n"
          ],
          "name": "stdout"
        }
      ]
    },
    {
      "cell_type": "code",
      "metadata": {
        "id": "c_kkLruLYdiQ"
      },
      "source": [
        ""
      ],
      "execution_count": null,
      "outputs": []
    }
  ]
}